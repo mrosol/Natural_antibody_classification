{
 "cells": [
  {
   "cell_type": "markdown",
   "metadata": {},
   "source": [
    "#### This file presents the example usage of the proposed solution to the problem of discriminating the antibody sequence and classifying it as human or murine."
   ]
  },
  {
   "cell_type": "code",
   "execution_count": null,
   "metadata": {},
   "outputs": [],
   "source": [
    "import numpy as np\n",
    "import pandas as pd\n",
    "import matplotlib.pyplot as plt\n",
    "import seaborn as sns\n",
    "import tensorflow as tf\n",
    "from sklearn.metrics import roc_curve, confusion_matrix\n",
    "import mlflow\n",
    "import dalex as dx\n",
    "from NA_train import train_model\n",
    "from utils import load_data, tokenize, train_val_test_split\n",
    "\n",
    "np.random.seed(42)\n",
    "tf.random.set_seed(42)"
   ]
  },
  {
   "cell_type": "markdown",
   "metadata": {},
   "source": [
    "In order to solve the given problem three different neural network architectures were evaluated:\n",
    " - Multilayer perceptron (MLP) with 3 fully connected layers\n",
    " - Bidirectional GRU with one fully connected layer\n",
    " - Bidirectional LSTM with one fully connected layer\n",
    "\n",
    "Each architecture has one neuron with a sigmoid activation function as an output, thus the output of the model is a score that indicates whether a given antibody sequence appears more human (values closer to 1) or mouse (values closer to 0).\n",
    "\n",
    "Dataset was divided into train, validation and test sets (60/20/20).\n",
    "For the purpose of hyperparameters tuning random grid search approach was used with 5 (due to limited time) different sets of parameters tested for each architecture type. \n",
    "\n",
    "The experiments were executed using `experiments.py` script and experiment tracking was performed using MLflow and Tensorboard.\n",
    "\n",
    "Based on the obtained results it seems that MLP is a very promising architecture for this particular problem as it obtained perfect results for both training and validation sets for different parameter values. It is worth mentioning that one tested LSTM architecture also obtained perfect results, however training of this model was much more time consuming. That is why it was decided to present the solution with MLP architecture.\n",
    "\n",
    "The final model was fitted with the combined training and validation datasets with the parameters that gave the best results in the shortest time."
   ]
  },
  {
   "cell_type": "markdown",
   "metadata": {},
   "source": [
    "# 1. Model training\n",
    "The model for the given problem might be fitted from scratch or an existing model can be loaded."
   ]
  },
  {
   "cell_type": "code",
   "execution_count": null,
   "metadata": {},
   "outputs": [],
   "source": [
    "# model = train_model(\n",
    "#     model_type='MLP', \n",
    "#     embedding_dim=16, \n",
    "#     dense_neurons=100, \n",
    "#     epochs=4, \n",
    "#     batch_size=512, \n",
    "#     learning_rate=0.0001, \n",
    "#     test=True, \n",
    "#     run_name='MLP_Test'\n",
    "#     )\n",
    "model = mlflow.keras.load_model('./mlruns/0/3919dbd70086486fba1bb20e59bff56f/artifacts/model_MLP_Test')"
   ]
  },
  {
   "cell_type": "markdown",
   "metadata": {},
   "source": [
    "# 2. Model evaluation"
   ]
  },
  {
   "cell_type": "code",
   "execution_count": null,
   "metadata": {},
   "outputs": [],
   "source": [
    "! mlflow ui"
   ]
  },
  {
   "cell_type": "code",
   "execution_count": 3,
   "metadata": {},
   "outputs": [],
   "source": [
    "! tensorboard --logdir logs/fit"
   ]
  },
  {
   "cell_type": "markdown",
   "metadata": {},
   "source": [
    "## 2.1. Out of sample prediction"
   ]
  },
  {
   "cell_type": "code",
   "execution_count": 4,
   "metadata": {},
   "outputs": [],
   "source": [
    "# Loading and preparing the data\n",
    "df = load_data()\n",
    "tokenizer, df_t = tokenize(df)\n",
    "words_number = len(tokenizer.word_index)\n",
    "X_train, X_val, X_test, y_train, y_val, y_test = train_val_test_split(df_t)"
   ]
  },
  {
   "cell_type": "code",
   "execution_count": null,
   "metadata": {},
   "outputs": [],
   "source": [
    "# Predicting labels for the test set\n",
    "y_hat_test = model.predict(X_test)\n",
    "y_pred_test = np.round(y_hat_test)"
   ]
  },
  {
   "cell_type": "markdown",
   "metadata": {},
   "source": [
    "## 2.2. Results visualization"
   ]
  },
  {
   "cell_type": "code",
   "execution_count": 6,
   "metadata": {},
   "outputs": [
    {
     "data": {
      "image/png": "[encoded data removed]",
      "text/plain": [
       "<Figure size 432x288 with 2 Axes>"
      ]
     },
     "metadata": {
      "needs_background": "light"
     },
     "output_type": "display_data"
    }
   ],
   "source": [
    "# Ploting confusion matrix\n",
    "cm_test = confusion_matrix(y_test, y_pred_test)\n",
    "sns.heatmap(cm_test, annot=True, fmt=\"d\", cmap=\"YlGnBu\")\n",
    "plt.xticks([0.5,1.5],['mouse', 'human'])\n",
    "plt.yticks([0.5,1.5],['mouse', 'human'])\n",
    "plt.xlabel('Predicted')\n",
    "plt.ylabel('True label')\n",
    "plt.title('Confusion matrix')\n",
    "plt.show()\n"
   ]
  },
  {
   "cell_type": "code",
   "execution_count": 7,
   "metadata": {},
   "outputs": [
    {
     "data": {
      "image/png": "[encoded data removed]",
      "text/plain": [
       "<Figure size 432x288 with 1 Axes>"
      ]
     },
     "metadata": {
      "needs_background": "light"
     },
     "output_type": "display_data"
    }
   ],
   "source": [
    "# Plorring ROC curve\n",
    "fpr, tpr, _ = roc_curve(y_test,  y_hat_test)\n",
    "\n",
    "plt.plot(fpr,tpr)\n",
    "plt.plot([0,1],[0,1],'--k')\n",
    "plt.ylabel('True Positive Rate')\n",
    "plt.xlabel('False Positive Rate')\n",
    "plt.title(\"ROC curve\")\n",
    "plt.show()"
   ]
  },
  {
   "cell_type": "markdown",
   "metadata": {},
   "source": [
    "# 3. XAI\n",
    "In order to better understand the model and its behavoiur Dalex package for explainable AI techniques was used."
   ]
  },
  {
   "cell_type": "code",
   "execution_count": null,
   "metadata": {},
   "outputs": [],
   "source": [
    "X_train_val = pd.concat([X_train, X_val])\n",
    "y_train_val = pd.concat([y_train, y_val])\n",
    "\n",
    "# Uncomment the below line if the model was fitted from scratch\n",
    "# model = model.model \n",
    "\n",
    "explainer_train_val = dx.Explainer(model, X_train_val, y_train_val, label='label',verbose=False)\n",
    "explainer_test = dx.Explainer(model, X_test, y_test, label='label',verbose=False)\n",
    "print('Explainers created')\n",
    "vi_train_val = explainer_train_val.model_parts(N=5000, B=15)\n",
    "print('After model_parts for train_val')\n",
    "vi_test = explainer_test.model_parts(N=5000, B=15)\n",
    "print('After model_parts for train_val')"
   ]
  },
  {
   "cell_type": "code",
   "execution_count": 12,
   "metadata": {},
   "outputs": [
    {
     "name": "stderr",
     "output_type": "stream",
     "text": [
      "/Users/mrosol/miniforge3/envs/tf-mac/lib/python3.8/site-packages/pandas/core/indexes/base.py:6982: FutureWarning:\n",
      "\n",
      "In a future version, the Index constructor will not infer numeric dtypes when passed object-dtype sequences (matching Series behavior)\n",
      "\n"
     ]
    },
    {
     "data": {
      "application/vnd.plotly.v1+json": {
       "config": {
        "displaylogo": false,
        "modeBarButtonsToRemove": [
         "sendDataToCloud",
         "lasso2d",
         "autoScale2d",
         "select2d",
         "zoom2d",
         "pan2d",
         "zoomIn2d",
         "zoomOut2d",
         "resetScale2d",
         "toggleSpikelines",
         "hoverCompareCartesian",
         "hoverClosestCartesian"
        ],
        "plotlyServerURL": "https://plot.ly",
        "staticPlot": false,
        "toImageButtonOptions": {
         "height": null,
         "width": null
        }
       },
       "data": [
        {
         "base": 0.00036820722475225935,
         "hoverinfo": "text",
         "hoverlabel": {
          "bgcolor": "rgba(0,0,0,0.8)"
         },
         "hovertext": [
          "Model: label loss after<br>variable: 20 is permuted: 0.006<br>Drop-out loss change: +0.005",
          "Model: label loss after<br>variable: 144 is permuted: 0.003<br>Drop-out loss change: +0.002",
          "Model: label loss after<br>variable: 103 is permuted: 0.002<br>Drop-out loss change: +0.002",
          "Model: label loss after<br>variable: 77 is permuted: 0.002<br>Drop-out loss change: +0.001",
          "Model: label loss after<br>variable: 45 is permuted: 0.002<br>Drop-out loss change: +0.001",
          "Model: label loss after<br>variable: 47 is permuted: 0.002<br>Drop-out loss change: +0.001",
          "Model: label loss after<br>variable: 98 is permuted: 0.002<br>Drop-out loss change: +0.001",
          "Model: label loss after<br>variable: 71 is permuted: 0.002<br>Drop-out loss change: +0.001",
          "Model: label loss after<br>variable: 17 is permuted: 0.001<br>Drop-out loss change: +0.001",
          "Model: label loss after<br>variable: 3 is permuted: 0.001<br>Drop-out loss change: +0.001",
          "Model: label loss after<br>variable: 149 is permuted: 0.001<br>Drop-out loss change: +0.001",
          "Model: label loss after<br>variable: 73 is permuted: 0.001<br>Drop-out loss change: +0.001",
          "Model: label loss after<br>variable: 16 is permuted: 0.001<br>Drop-out loss change: +0.001",
          "Model: label loss after<br>variable: 5 is permuted: 0.001<br>Drop-out loss change: +0.001",
          "Model: label loss after<br>variable: 55 is permuted: 0.001<br>Drop-out loss change: +0.001"
         ],
         "marker": {
          "color": "#46bac2"
         },
         "orientation": "h",
         "showlegend": false,
         "text": [
          "+0.005",
          "+0.002",
          "+0.002",
          "+0.001",
          "+0.001",
          "+0.001",
          "+0.001",
          "+0.001",
          "+0.001",
          "+0.001",
          "+0.001",
          "+0.001",
          "+0.001",
          "+0.001",
          "+0.001"
         ],
         "textposition": "outside",
         "type": "bar",
         "x": [
          0.005159300826213724,
          0.0022063452649402062,
          0.0018053319793433934,
          0.0014763793524058364,
          0.0013933482618122821,
          0.0013414771243468043,
          0.0012628064860856273,
          0.0012022116011125021,
          0.0010283838214678732,
          0.000952440875941979,
          0.0008244740172546573,
          0.0007850123622245501,
          0.0007641570432949064,
          0.0007639836335297629,
          0.0007623753363826379
         ],
         "xaxis": "x",
         "y": [
          20,
          144,
          103,
          77,
          45,
          47,
          98,
          71,
          17,
          3,
          149,
          73,
          16,
          5,
          55
         ],
         "yaxis": "y"
        }
       ],
       "layout": {
        "annotations": [
         {
          "font": {
           "size": 16
          },
          "showarrow": false,
          "text": "label",
          "x": 0.5,
          "xanchor": "center",
          "xref": "paper",
          "y": 1,
          "yanchor": "bottom",
          "yref": "paper"
         },
         {
          "font": {
           "size": 16
          },
          "showarrow": false,
          "text": "drop-out loss",
          "x": 0.5,
          "xanchor": "center",
          "xref": "paper",
          "y": 0,
          "yanchor": "top",
          "yref": "paper",
          "yshift": -30
         }
        ],
        "font": {
         "color": "#371ea3"
        },
        "height": 483,
        "margin": {
         "b": 71,
         "r": 30,
         "t": 78
        },
        "shapes": [
         {
          "line": {
           "color": "#371ea3",
           "dash": "dot",
           "width": 1.5
          },
          "type": "line",
          "x0": 0.00036820722475225935,
          "x1": 0.00036820722475225935,
          "xref": "x",
          "y0": -1,
          "y1": 15,
          "yref": "y"
         }
        ],
        "template": {
         "data": {
          "scatter": [
           {
            "type": "scatter"
           }
          ]
         }
        },
        "title": {
         "text": "Variable Importance",
         "x": 0.15
        },
        "xaxis": {
         "anchor": "y",
         "automargin": true,
         "domain": [
          0,
          1
         ],
         "fixedrange": true,
         "gridwidth": 2,
         "range": [
          -0.0005113813135490348,
          0.006315189272424464
         ],
         "tickcolor": "white",
         "ticklen": 3,
         "ticks": "outside",
         "type": "linear",
         "zeroline": false
        },
        "yaxis": {
         "anchor": "x",
         "automargin": true,
         "autorange": "reversed",
         "domain": [
          0,
          1
         ],
         "fixedrange": true,
         "gridwidth": 2,
         "tickcolor": "white",
         "ticklen": 10,
         "ticks": "outside",
         "type": "category"
        }
       }
      }
     },
     "metadata": {},
     "output_type": "display_data"
    }
   ],
   "source": [
    "# Plotting top 10 most important variables for the training and validation sets \n",
    "vi_train_val.plot(max_vars=15)"
   ]
  },
  {
   "cell_type": "code",
   "execution_count": 13,
   "metadata": {},
   "outputs": [
    {
     "name": "stderr",
     "output_type": "stream",
     "text": [
      "/Users/mrosol/miniforge3/envs/tf-mac/lib/python3.8/site-packages/pandas/core/indexes/base.py:6982: FutureWarning:\n",
      "\n",
      "In a future version, the Index constructor will not infer numeric dtypes when passed object-dtype sequences (matching Series behavior)\n",
      "\n"
     ]
    },
    {
     "data": {
      "application/vnd.plotly.v1+json": {
       "config": {
        "displaylogo": false,
        "modeBarButtonsToRemove": [
         "sendDataToCloud",
         "lasso2d",
         "autoScale2d",
         "select2d",
         "zoom2d",
         "pan2d",
         "zoomIn2d",
         "zoomOut2d",
         "resetScale2d",
         "toggleSpikelines",
         "hoverCompareCartesian",
         "hoverClosestCartesian"
        ],
        "plotlyServerURL": "https://plot.ly",
        "staticPlot": false,
        "toImageButtonOptions": {
         "height": null,
         "width": null
        }
       },
       "data": [
        {
         "base": 0.001118713286223735,
         "hoverinfo": "text",
         "hoverlabel": {
          "bgcolor": "rgba(0,0,0,0.8)"
         },
         "hovertext": [
          "Model: label loss after<br>variable: 20 is permuted: 0.007<br>Drop-out loss change: +0.006",
          "Model: label loss after<br>variable: 144 is permuted: 0.005<br>Drop-out loss change: +0.004",
          "Model: label loss after<br>variable: 98 is permuted: 0.005<br>Drop-out loss change: +0.004",
          "Model: label loss after<br>variable: 71 is permuted: 0.004<br>Drop-out loss change: +0.003",
          "Model: label loss after<br>variable: 77 is permuted: 0.003<br>Drop-out loss change: +0.002",
          "Model: label loss after<br>variable: 12 is permuted: 0.003<br>Drop-out loss change: +0.002",
          "Model: label loss after<br>variable: 86 is permuted: 0.003<br>Drop-out loss change: +0.002",
          "Model: label loss after<br>variable: 5 is permuted: 0.003<br>Drop-out loss change: +0.002",
          "Model: label loss after<br>variable: 19 is permuted: 0.003<br>Drop-out loss change: +0.001",
          "Model: label loss after<br>variable: 138 is permuted: 0.003<br>Drop-out loss change: +0.001",
          "Model: label loss after<br>variable: 45 is permuted: 0.003<br>Drop-out loss change: +0.001",
          "Model: label loss after<br>variable: 87 is permuted: 0.002<br>Drop-out loss change: +0.001",
          "Model: label loss after<br>variable: 149 is permuted: 0.002<br>Drop-out loss change: +0.001",
          "Model: label loss after<br>variable: 18 is permuted: 0.002<br>Drop-out loss change: +0.001",
          "Model: label loss after<br>variable: 16 is permuted: 0.002<br>Drop-out loss change: +0.001"
         ],
         "marker": {
          "color": "#46bac2"
         },
         "orientation": "h",
         "showlegend": false,
         "text": [
          "+0.006",
          "+0.004",
          "+0.004",
          "+0.003",
          "+0.002",
          "+0.002",
          "+0.002",
          "+0.002",
          "+0.001",
          "+0.001",
          "+0.001",
          "+0.001",
          "+0.001",
          "+0.001",
          "+0.001"
         ],
         "textposition": "outside",
         "type": "bar",
         "x": [
          0.006106705772042049,
          0.004065353439082203,
          0.003962051416636786,
          0.0030839275911918214,
          0.001802778395270813,
          0.0016365103796004055,
          0.0015635926945428474,
          0.0015594673677139495,
          0.0014910724248177645,
          0.0014473765280631253,
          0.0014327023368137313,
          0.0013589889871270338,
          0.001188295116514479,
          0.0011816743839221766,
          0.0010332655624288383
         ],
         "xaxis": "x",
         "y": [
          20,
          144,
          98,
          71,
          77,
          12,
          86,
          5,
          19,
          138,
          45,
          87,
          149,
          18,
          16
         ],
         "yaxis": "y"
        }
       ],
       "layout": {
        "annotations": [
         {
          "font": {
           "size": 16
          },
          "showarrow": false,
          "text": "label",
          "x": 0.5,
          "xanchor": "center",
          "xref": "paper",
          "y": 1,
          "yanchor": "bottom",
          "yref": "paper"
         },
         {
          "font": {
           "size": 16
          },
          "showarrow": false,
          "text": "drop-out loss",
          "x": 0.5,
          "xanchor": "center",
          "xref": "paper",
          "y": 0,
          "yanchor": "top",
          "yref": "paper",
          "yshift": -30
         }
        ],
        "font": {
         "color": "#371ea3"
        },
        "height": 483,
        "margin": {
         "b": 71,
         "r": 30,
         "t": 78
        },
        "shapes": [
         {
          "line": {
           "color": "#371ea3",
           "dash": "dot",
           "width": 1.5
          },
          "type": "line",
          "x0": 0.001118713286223735,
          "x1": 0.001118713286223735,
          "xref": "x",
          "y0": -1,
          "y1": 15,
          "yref": "y"
         }
        ],
        "template": {
         "data": {
          "scatter": [
           {
            "type": "scatter"
           }
          ]
         }
        },
        "title": {
         "text": "Variable Importance",
         "x": 0.15
        },
        "xaxis": {
         "anchor": "y",
         "automargin": true,
         "domain": [
          0,
          1
         ],
         "fixedrange": true,
         "gridwidth": 2,
         "range": [
          -0.00011415448348663234,
          0.008182754737624795
         ],
         "tickcolor": "white",
         "ticklen": 3,
         "ticks": "outside",
         "type": "linear",
         "zeroline": false
        },
        "yaxis": {
         "anchor": "x",
         "automargin": true,
         "autorange": "reversed",
         "domain": [
          0,
          1
         ],
         "fixedrange": true,
         "gridwidth": 2,
         "tickcolor": "white",
         "ticklen": 10,
         "ticks": "outside",
         "type": "category"
        }
       }
      }
     },
     "metadata": {},
     "output_type": "display_data"
    }
   ],
   "source": [
    "# Plotting top 10 most important variables for the test set\n",
    "vi_test.plot(max_vars=15)"
   ]
  },
  {
   "cell_type": "markdown",
   "metadata": {},
   "source": [
    "Over half of the 10% of most important variables are the same in the case of test and training datasets with similar variable importance values, which indicates that the model is not overfitting."
   ]
  }
 ],
 "metadata": {
  "kernelspec": {
   "display_name": "Python 3.8.13 ('tf-mac')",
   "language": "python",
   "name": "python3"
  },
  "language_info": {
   "codemirror_mode": {
    "name": "ipython",
    "version": 3
   },
   "file_extension": ".py",
   "mimetype": "text/x-python",
   "name": "python",
   "nbconvert_exporter": "python",
   "pygments_lexer": "ipython3",
   "version": "3.8.13"
  },
  "orig_nbformat": 4,
  "vscode": {
   "interpreter": {
    "hash": "49436af8e737fe8a22f525ae0584d061d5ca626ad3feca951ba7c8f25eb193a5"
   }
  }
 },
 "nbformat": 4,
 "nbformat_minor": 2
}
